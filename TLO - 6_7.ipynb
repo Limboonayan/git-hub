{
 "cells": [
  {
   "cell_type": "code",
   "execution_count": 1,
   "id": "a358945a",
   "metadata": {},
   "outputs": [],
   "source": [
    "#TLO6: Create and use functions with arguments in Python (CLO2)\n",
    "#LO7: Apply list comprehensions, logic, and tuple unpacking in Python (CLO2)"
   ]
  },
  {
   "cell_type": "code",
   "execution_count": 2,
   "id": "88349157",
   "metadata": {},
   "outputs": [
    {
     "name": "stdout",
     "output_type": "stream",
     "text": [
      "The square of 5 is 25.\n"
     ]
    }
   ],
   "source": [
    "#Exercise 1\n",
    "def square_number(num):\n",
    "    squared = num * num\n",
    "    return squared\n",
    "number = 5\n",
    "result = square_number(number)\n",
    "print(f\"The square of {number} is {result}.\")\n"
   ]
  },
  {
   "cell_type": "code",
   "execution_count": 3,
   "id": "10fe8ca1",
   "metadata": {},
   "outputs": [
    {
     "name": "stdout",
     "output_type": "stream",
     "text": [
      "Is 'Racecar' a palindrome? True\n"
     ]
    }
   ],
   "source": [
    "#Exercise 2\n",
    "def is_palindrome(word):\n",
    "    word = word.lower()\n",
    "    return word == word[::-1]\n",
    "test_word = \"Racecar\"\n",
    "result = is_palindrome(test_word)\n",
    "print(f\"Is '{test_word}' a palindrome? {result}\")\n"
   ]
  },
  {
   "cell_type": "code",
   "execution_count": 4,
   "id": "e5303ca3",
   "metadata": {},
   "outputs": [
    {
     "name": "stdout",
     "output_type": "stream",
     "text": [
      "The factorial of 5 is 120.\n"
     ]
    }
   ],
   "source": [
    "#Exercise 3\n",
    "def factorial(num):\n",
    "    if num == 0 or num == 1:\n",
    "        return 1\n",
    "    else:\n",
    "        result = 1\n",
    "        for i in range(1, num + 1):\n",
    "            result *= i\n",
    "        return result\n",
    "number = 5\n",
    "result = factorial(number)\n",
    "print(f\"The factorial of {number} is {result}.\")\n"
   ]
  },
  {
   "cell_type": "code",
   "execution_count": 5,
   "id": "490aed3d",
   "metadata": {},
   "outputs": [
    {
     "name": "stdout",
     "output_type": "stream",
     "text": [
      "Is 5 odd? True\n"
     ]
    }
   ],
   "source": [
    "#Exercise 4\n",
    "def odd_check(num):\n",
    "    return num % 2 == 1\n",
    "number = 5\n",
    "result = odd_check(number)\n",
    "print(f\"Is {number} odd? {result}\")\n"
   ]
  },
  {
   "cell_type": "code",
   "execution_count": 6,
   "id": "a0c3c7bb",
   "metadata": {},
   "outputs": [
    {
     "name": "stdout",
     "output_type": "stream",
     "text": [
      "Odd numbers in the list: [1, 3, 5, 7, 9]\n"
     ]
    }
   ],
   "source": [
    "#Exercise 5\n",
    "def odd_numbers_list(num_list):\n",
    "    odd_numbers = []\n",
    "    for number in num_list:\n",
    "        if number % 2 == 1:\n",
    "            odd_numbers.append(number)\n",
    "    return odd_numbers\n",
    "numbers = [1, 2, 3, 4, 5, 6, 7, 8, 9]\n",
    "result = odd_numbers_list(numbers)\n",
    "print(f\"Odd numbers in the list: {result}\")\n"
   ]
  },
  {
   "cell_type": "code",
   "execution_count": 7,
   "id": "ad674a00",
   "metadata": {},
   "outputs": [
    {
     "name": "stdout",
     "output_type": "stream",
     "text": [
      "Employee of the month is Sammy with 600 hours worked.\n"
     ]
    }
   ],
   "source": [
    "#Exercise 6\n",
    "def employee_of_month(work_hours):\n",
    "    current_max = 0\n",
    "    employee_of_month = ''\n",
    "    for employee, hours in work_hours:\n",
    "        if hours > current_max:\n",
    "            current_max = hours\n",
    "            employee_of_month = employee\n",
    "    return (employee_of_month, current_max)\n",
    "work_hours_data = [('Abby', 100), ('Mark', 200), ('Sammy', 600)]\n",
    "result = employee_of_month(work_hours_data)\n",
    "print(f\"Employee of the month is {result[0]} with {result[1]} hours worked.\")\n"
   ]
  },
  {
   "cell_type": "code",
   "execution_count": 8,
   "id": "55eb7945",
   "metadata": {},
   "outputs": [
    {
     "name": "stdout",
     "output_type": "stream",
     "text": [
      "[0, 1, 4, 9, 16, 25, 36, 49, 64, 81, 100]\n"
     ]
    }
   ],
   "source": [
    "#Exercise 7\n",
    "def squared_numbers(num_range):\n",
    "    squared_list = [num**2 for num in num_range]\n",
    "    return squared_list\n",
    "result = squared_numbers(range(0, 11))\n",
    "print(result)\n"
   ]
  },
  {
   "cell_type": "code",
   "execution_count": 9,
   "id": "41256e14",
   "metadata": {},
   "outputs": [
    {
     "name": "stdout",
     "output_type": "stream",
     "text": [
      "[1, 3, 5, 7, 9]\n"
     ]
    }
   ],
   "source": [
    "#Exercise 8\n",
    "def odd_numbers(num_range):\n",
    "    odd_list = [num for num in num_range if num % 2 != 0]\n",
    "    return odd_list\n",
    "result = odd_numbers(range(0, 11))\n",
    "print(result)\n"
   ]
  },
  {
   "cell_type": "code",
   "execution_count": 10,
   "id": "58acc3f0",
   "metadata": {},
   "outputs": [
    {
     "name": "stdout",
     "output_type": "stream",
     "text": [
      "[0, 4, 16, 36, 64, 100]\n"
     ]
    }
   ],
   "source": [
    "#Exercise 9\n",
    "def even_squared_numbers(num_range):\n",
    "    even_squared_list = [num**2 for num in num_range if num % 2 == 0]\n",
    "    return even_squared_list\n",
    "result = even_squared_numbers(range(0, 11))\n",
    "print(result)\n"
   ]
  },
  {
   "cell_type": "code",
   "execution_count": 11,
   "id": "9adc11fd",
   "metadata": {},
   "outputs": [
    {
     "name": "stdout",
     "output_type": "stream",
     "text": [
      "[0, 'ODD', 2, 'ODD', 4, 'ODD', 6, 'ODD', 8, 'ODD', 10]\n"
     ]
    }
   ],
   "source": [
    "#Exercise 10\n",
    "def number_string_list(num_range):\n",
    "    num_string_list = [num if num % 2 == 0 else 'ODD' for num in num_range]\n",
    "    return num_string_list\n",
    "result = number_string_list(range(0, 11))\n",
    "print(result)\n"
   ]
  },
  {
   "cell_type": "code",
   "execution_count": 12,
   "id": "98c3265e",
   "metadata": {},
   "outputs": [
    {
     "name": "stdout",
     "output_type": "stream",
     "text": [
      "[32.0, 50.0, 68.0, 86.0, 122.0, 94.1]\n"
     ]
    }
   ],
   "source": [
    "#Exercise 11\n",
    "def convert_to_fahrenheit(celsius_list):\n",
    "    fahrenheit_list = [((9/5)*temp + 32) for temp in celsius_list]\n",
    "    return fahrenheit_list\n",
    "celsius_data = [0, 10, 20, 30, 50, 34.5]\n",
    "result = convert_to_fahrenheit(celsius_data)\n",
    "print(result)\n"
   ]
  },
  {
   "cell_type": "code",
   "execution_count": null,
   "id": "ff456ba8",
   "metadata": {},
   "outputs": [],
   "source": []
  }
 ],
 "metadata": {
  "kernelspec": {
   "display_name": "Python 3 (ipykernel)",
   "language": "python",
   "name": "python3"
  },
  "language_info": {
   "codemirror_mode": {
    "name": "ipython",
    "version": 3
   },
   "file_extension": ".py",
   "mimetype": "text/x-python",
   "name": "python",
   "nbconvert_exporter": "python",
   "pygments_lexer": "ipython3",
   "version": "3.10.9"
  }
 },
 "nbformat": 4,
 "nbformat_minor": 5
}
