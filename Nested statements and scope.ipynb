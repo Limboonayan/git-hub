{
 "cells": [
  {
   "cell_type": "code",
   "execution_count": 17,
   "id": "68fe16c3",
   "metadata": {},
   "outputs": [],
   "source": [
    "x = 20\n",
    "def printer():\n",
    "    x = 50\n",
    "    return x"
   ]
  },
  {
   "cell_type": "code",
   "execution_count": 18,
   "id": "622e752a",
   "metadata": {},
   "outputs": [
    {
     "name": "stdout",
     "output_type": "stream",
     "text": [
      "20\n"
     ]
    }
   ],
   "source": [
    "print(x)"
   ]
  },
  {
   "cell_type": "code",
   "execution_count": 19,
   "id": "41d62a7a",
   "metadata": {},
   "outputs": [
    {
     "name": "stdout",
     "output_type": "stream",
     "text": [
      "50\n"
     ]
    }
   ],
   "source": [
    "print(printer())"
   ]
  },
  {
   "cell_type": "code",
   "execution_count": 20,
   "id": "6ef22803",
   "metadata": {},
   "outputs": [],
   "source": [
    "# x is local here\n",
    "f = lambda x:x**2"
   ]
  },
  {
   "cell_type": "code",
   "execution_count": 21,
   "id": "3d33b3e6",
   "metadata": {},
   "outputs": [
    {
     "name": "stdout",
     "output_type": "stream",
     "text": [
      "helloLakpa\n"
     ]
    }
   ],
   "source": [
    "name = 'This ia a global name'\n",
    "def greet():\n",
    "    #Enclosing function\n",
    "    name='Lakpa'\n",
    "    def hello():\n",
    "        print('hello'+name)\n",
    "    hello()\n",
    "greet()"
   ]
  },
  {
   "cell_type": "code",
   "execution_count": 22,
   "id": "b1969c54",
   "metadata": {},
   "outputs": [
    {
     "name": "stdout",
     "output_type": "stream",
     "text": [
      "This ia a global name\n"
     ]
    }
   ],
   "source": [
    "print(name)"
   ]
  },
  {
   "cell_type": "code",
   "execution_count": 23,
   "id": "442afea7",
   "metadata": {},
   "outputs": [
    {
     "data": {
      "text/plain": [
       "<function len(obj, /)>"
      ]
     },
     "execution_count": 23,
     "metadata": {},
     "output_type": "execute_result"
    }
   ],
   "source": [
    "len"
   ]
  },
  {
   "cell_type": "code",
   "execution_count": 24,
   "id": "fceeb631",
   "metadata": {},
   "outputs": [
    {
     "name": "stdout",
     "output_type": "stream",
     "text": [
      "x is 20\n",
      "changed local x to 50\n",
      "x is still 20\n"
     ]
    }
   ],
   "source": [
    "f = 25\n",
    "def func(x):\n",
    "    print('x is', x)\n",
    "    x = 50\n",
    "    print('changed local x to',x )\n",
    "func(x)\n",
    "print('x is still', x)"
   ]
  },
  {
   "cell_type": "code",
   "execution_count": 25,
   "id": "c82e308d",
   "metadata": {},
   "outputs": [
    {
     "name": "stdout",
     "output_type": "stream",
     "text": [
      "Before calling func(), x is:  55\n",
      "This function is now using the global x!\n",
      "Because of global x is:  55\n",
      "Ran func(), changed global x to 2\n",
      "Value of x (outside of func()) is:  2\n"
     ]
    }
   ],
   "source": [
    "x = 55\n",
    "def func():\n",
    "    global x\n",
    "    print('This function is now using the global x!')\n",
    "    print('Because of global x is: ', x)\n",
    "    x = 2\n",
    "    print('Ran func(), changed global x to', x)\n",
    "print('Before calling func(), x is: ', x)\n",
    "func()\n",
    "print('Value of x (outside of func()) is: ', x)\n",
    "\n",
    "    "
   ]
  },
  {
   "cell_type": "code",
   "execution_count": 29,
   "id": "8b4655dc",
   "metadata": {},
   "outputs": [],
   "source": [
    "x = 20\n",
    "def func(x):\n",
    "    print('x is',x)\n",
    "    x = 25\n",
    "    "
   ]
  },
  {
   "cell_type": "code",
   "execution_count": 30,
   "id": "a9e3edad",
   "metadata": {},
   "outputs": [
    {
     "name": "stdout",
     "output_type": "stream",
     "text": [
      "x is 20\n"
     ]
    }
   ],
   "source": [
    "func(x)"
   ]
  },
  {
   "cell_type": "code",
   "execution_count": 39,
   "id": "df796704",
   "metadata": {},
   "outputs": [
    {
     "name": "stdout",
     "output_type": "stream",
     "text": [
      "x is 20\n",
      "changed local x to 25\n",
      "x changed to 20\n"
     ]
    }
   ],
   "source": [
    "f = 20\n",
    "def func(x):\n",
    "    print('x is',x)\n",
    "    x = 25\n",
    "    print('changed local x to',x)\n",
    "func(x)\n",
    "print('x changed to',x)"
   ]
  },
  {
   "cell_type": "code",
   "execution_count": 47,
   "id": "184a7fb3",
   "metadata": {},
   "outputs": [
    {
     "name": "stdout",
     "output_type": "stream",
     "text": [
      "x is -15\n",
      "x changed local to 30\n",
      "x changed to 15\n"
     ]
    }
   ],
   "source": [
    "x = 15\n",
    "def func(x):\n",
    "    print('x is',-x)\n",
    "    x = 30\n",
    "    print('x changed local to',x)\n",
    "func(x)\n",
    "print('x changed to',x)"
   ]
  },
  {
   "cell_type": "code",
   "execution_count": 45,
   "id": "6263e831",
   "metadata": {},
   "outputs": [
    {
     "name": "stdout",
     "output_type": "stream",
     "text": [
      "x is -15\n",
      "x changed local to 30\n"
     ]
    }
   ],
   "source": [
    "func(x)"
   ]
  },
  {
   "cell_type": "code",
   "execution_count": null,
   "id": "e72e9253",
   "metadata": {},
   "outputs": [],
   "source": []
  }
 ],
 "metadata": {
  "kernelspec": {
   "display_name": "Python 3 (ipykernel)",
   "language": "python",
   "name": "python3"
  },
  "language_info": {
   "codemirror_mode": {
    "name": "ipython",
    "version": 3
   },
   "file_extension": ".py",
   "mimetype": "text/x-python",
   "name": "python",
   "nbconvert_exporter": "python",
   "pygments_lexer": "ipython3",
   "version": "3.10.9"
  }
 },
 "nbformat": 4,
 "nbformat_minor": 5
}
