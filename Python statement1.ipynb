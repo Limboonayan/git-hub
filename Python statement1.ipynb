{
 "cells": [
  {
   "cell_type": "code",
   "execution_count": 1,
   "id": "71379558",
   "metadata": {},
   "outputs": [],
   "source": [
    "#while Loop in Python"
   ]
  },
  {
   "cell_type": "code",
   "execution_count": 2,
   "id": "f066a71f",
   "metadata": {},
   "outputs": [],
   "source": [
    "#while boolean_condition:\n",
    "     #do something\n",
    "#else:\n",
    "     #do something else\n",
    "    "
   ]
  },
  {
   "cell_type": "code",
   "execution_count": 3,
   "id": "93a1f0a0",
   "metadata": {},
   "outputs": [
    {
     "name": "stdout",
     "output_type": "stream",
     "text": [
      "The current value of x is 0\n",
      "The current value of x is 1\n",
      "The current value of x is 2\n",
      "The current value of x is 3\n",
      "The current value of x is 4\n",
      "x is not less then 5\n"
     ]
    }
   ],
   "source": [
    "x = 0\n",
    "while x<5:\n",
    "    print(f'The current value of x is {x}')\n",
    "    x += 1\n",
    "else:\n",
    "    print('x is not less then 5')"
   ]
  },
  {
   "cell_type": "code",
   "execution_count": 4,
   "id": "56759d2d",
   "metadata": {},
   "outputs": [],
   "source": [
    "#break,continue,pass"
   ]
  },
  {
   "cell_type": "code",
   "execution_count": 6,
   "id": "228cd847",
   "metadata": {},
   "outputs": [],
   "source": [
    "#break:breaks out of theclosest enclosong Loop\n",
    "#continue:goes to the top of the closest enclosing Loop\n",
    "#pass:does nothing at all"
   ]
  },
  {
   "cell_type": "code",
   "execution_count": 5,
   "id": "8ce87afc",
   "metadata": {},
   "outputs": [
    {
     "name": "stdout",
     "output_type": "stream",
     "text": [
      "The end of my script\n"
     ]
    }
   ],
   "source": [
    "x = [1,2,3]\n",
    "for item in x:\n",
    "    pass\n",
    "print('The end of my script')"
   ]
  },
  {
   "cell_type": "code",
   "execution_count": 9,
   "id": "850f9147",
   "metadata": {},
   "outputs": [
    {
     "name": "stdout",
     "output_type": "stream",
     "text": [
      "D\n",
      "n\n",
      "n\n",
      "y\n"
     ]
    }
   ],
   "source": [
    "mystring = 'Danny'\n",
    "for letter in mystring:\n",
    "    if letter == 'a':\n",
    "        continue\n",
    "    print(letter)"
   ]
  },
  {
   "cell_type": "code",
   "execution_count": 8,
   "id": "250cba7e",
   "metadata": {},
   "outputs": [
    {
     "name": "stdout",
     "output_type": "stream",
     "text": [
      "A\n",
      "p\n",
      "r\n"
     ]
    }
   ],
   "source": [
    "mystring = 'April'\n",
    "for letter in mystring:\n",
    "    if letter == 'i':\n",
    "        break\n",
    "    print(letter)"
   ]
  },
  {
   "cell_type": "code",
   "execution_count": 14,
   "id": "62b62abf",
   "metadata": {},
   "outputs": [
    {
     "name": "stdout",
     "output_type": "stream",
     "text": [
      "0\n",
      "1\n"
     ]
    }
   ],
   "source": [
    "x = 0\n",
    "while x<5:\n",
    "    if x == 2:\n",
    "        break\n",
    "    print(x)\n",
    "    x += 1"
   ]
  },
  {
   "cell_type": "code",
   "execution_count": null,
   "id": "43030c0b",
   "metadata": {},
   "outputs": [],
   "source": []
  }
 ],
 "metadata": {
  "kernelspec": {
   "display_name": "Python 3 (ipykernel)",
   "language": "python",
   "name": "python3"
  },
  "language_info": {
   "codemirror_mode": {
    "name": "ipython",
    "version": 3
   },
   "file_extension": ".py",
   "mimetype": "text/x-python",
   "name": "python",
   "nbconvert_exporter": "python",
   "pygments_lexer": "ipython3",
   "version": "3.10.9"
  }
 },
 "nbformat": 4,
 "nbformat_minor": 5
}
