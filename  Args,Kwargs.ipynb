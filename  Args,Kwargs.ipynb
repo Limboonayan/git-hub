{
 "cells": [
  {
   "cell_type": "code",
   "execution_count": 1,
   "id": "c4900f91",
   "metadata": {},
   "outputs": [],
   "source": [
    "#*args\n"
   ]
  },
  {
   "cell_type": "code",
   "execution_count": 11,
   "id": "928a7a2b",
   "metadata": {},
   "outputs": [],
   "source": [
    "def myfunc(a,b):\n",
    "    return (a*b)"
   ]
  },
  {
   "cell_type": "code",
   "execution_count": 12,
   "id": "8796103c",
   "metadata": {},
   "outputs": [
    {
     "data": {
      "text/plain": [
       "720"
      ]
     },
     "execution_count": 12,
     "metadata": {},
     "output_type": "execute_result"
    }
   ],
   "source": [
    "myfunc(24,30)"
   ]
  },
  {
   "cell_type": "code",
   "execution_count": 13,
   "id": "0b0924dc",
   "metadata": {},
   "outputs": [],
   "source": [
    "def myfunc(a,b,c=0,d=0):\n",
    "    return sum((a,b,c,d)) *0.05"
   ]
  },
  {
   "cell_type": "code",
   "execution_count": 14,
   "id": "cfc359a6",
   "metadata": {},
   "outputs": [
    {
     "data": {
      "text/plain": [
       "5.0"
      ]
     },
     "execution_count": 14,
     "metadata": {},
     "output_type": "execute_result"
    }
   ],
   "source": [
    "myfunc(20,30,40,10)"
   ]
  },
  {
   "cell_type": "code",
   "execution_count": 18,
   "id": "f2a7cb59",
   "metadata": {},
   "outputs": [],
   "source": [
    "def myfunc (*args):\n",
    "    return sum(args) *0.05\n",
    "\n"
   ]
  },
  {
   "cell_type": "code",
   "execution_count": 19,
   "id": "2c7f0d95",
   "metadata": {},
   "outputs": [
    {
     "data": {
      "text/plain": [
       "10.5"
      ]
     },
     "execution_count": 19,
     "metadata": {},
     "output_type": "execute_result"
    }
   ],
   "source": [
    "myfunc(10,20,30,40,50,60)"
   ]
  },
  {
   "cell_type": "code",
   "execution_count": 20,
   "id": "cc113191",
   "metadata": {},
   "outputs": [
    {
     "name": "stdout",
     "output_type": "stream",
     "text": [
      "10\n",
      "20\n",
      "30\n",
      "40\n",
      "50\n",
      "60\n",
      "70\n"
     ]
    }
   ],
   "source": [
    "def myfunc(*args):\n",
    "    for item in args:\n",
    "        print(item)\n",
    "myfunc(10,20,30,40,50,60,70)"
   ]
  },
  {
   "cell_type": "code",
   "execution_count": 34,
   "id": "3b7eec63",
   "metadata": {},
   "outputs": [
    {
     "name": "stdout",
     "output_type": "stream",
     "text": [
      "{'fruit': 'Apple', 'food': 'Rice', 'veggie': 'Lecttue'}\n",
      "My choice of fruit is Rice\n"
     ]
    }
   ],
   "source": [
    "def myfunc(**kwargs) :\n",
    "    print(kwargs)\n",
    "    if 'fruit' in kwargs:\n",
    "        print('My choice of fruit is {}'.format(kwargs['food']))\n",
    "    else:\n",
    "        print('I did not find any fruit here')\n",
    "myfunc(fruit='Apple',food = 'Rice',veggie = 'Lecttue')"
   ]
  },
  {
   "cell_type": "code",
   "execution_count": 35,
   "id": "e7d65702",
   "metadata": {},
   "outputs": [],
   "source": [
    "def mynewfunc(*args,**kwargs) :\n",
    "    print('I would like {} {}'.format(args[0],kwargs['food']))"
   ]
  },
  {
   "cell_type": "code",
   "execution_count": 36,
   "id": "dd63c8ee",
   "metadata": {},
   "outputs": [
    {
     "name": "stdout",
     "output_type": "stream",
     "text": [
      "I would like 10 Momo\n"
     ]
    }
   ],
   "source": [
    "mynewfunc(10,20,30,40,food= 'Momo',fruit='Apple',veggie='Potato')"
   ]
  },
  {
   "cell_type": "code",
   "execution_count": 37,
   "id": "118724dc",
   "metadata": {},
   "outputs": [
    {
     "data": {
      "text/plain": [
       "<function __main__.mynewfunc(*args, **kwargs)>"
      ]
     },
     "execution_count": 37,
     "metadata": {},
     "output_type": "execute_result"
    }
   ],
   "source": [
    "mynewfunc"
   ]
  },
  {
   "cell_type": "code",
   "execution_count": null,
   "id": "aad8f708",
   "metadata": {},
   "outputs": [],
   "source": []
  }
 ],
 "metadata": {
  "kernelspec": {
   "display_name": "Python 3 (ipykernel)",
   "language": "python",
   "name": "python3"
  },
  "language_info": {
   "codemirror_mode": {
    "name": "ipython",
    "version": 3
   },
   "file_extension": ".py",
   "mimetype": "text/x-python",
   "name": "python",
   "nbconvert_exporter": "python",
   "pygments_lexer": "ipython3",
   "version": "3.10.9"
  }
 },
 "nbformat": 4,
 "nbformat_minor": 5
}
