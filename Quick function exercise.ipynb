{
 "cells": [
  {
   "cell_type": "code",
   "execution_count": 1,
   "id": "e89c6788",
   "metadata": {},
   "outputs": [
    {
     "name": "stdout",
     "output_type": "stream",
     "text": [
      "Hello World\n"
     ]
    }
   ],
   "source": [
    "# 1\n",
    "my_string = 'Hello World'\n",
    "print(my_string)"
   ]
  },
  {
   "cell_type": "code",
   "execution_count": 2,
   "id": "6c268066",
   "metadata": {},
   "outputs": [],
   "source": [
    "# 2\n",
    "def name_of_function():\n",
    "    '''\n",
    "    Docstring explain function\n",
    "    \n",
    "    '''\n",
    "    print(\"Hello Name\")"
   ]
  },
  {
   "cell_type": "code",
   "execution_count": 3,
   "id": "72315ccd",
   "metadata": {},
   "outputs": [
    {
     "name": "stdout",
     "output_type": "stream",
     "text": [
      "Hello Name\n"
     ]
    }
   ],
   "source": [
    "name_of_function()"
   ]
  },
  {
   "cell_type": "code",
   "execution_count": 8,
   "id": "cc9e2058",
   "metadata": {},
   "outputs": [],
   "source": [
    "# 3\n",
    "def myFunction(Boolean):\n",
    "    if Boolean ==True:\n",
    "        return \"hello\"\n",
    "    elif Boolean==False:\n",
    "        return \"goodbye\"\n"
   ]
  },
  {
   "cell_type": "code",
   "execution_count": 10,
   "id": "be7c3a8a",
   "metadata": {},
   "outputs": [
    {
     "data": {
      "text/plain": [
       "'hello'"
      ]
     },
     "execution_count": 10,
     "metadata": {},
     "output_type": "execute_result"
    }
   ],
   "source": [
    "myFunction(True)"
   ]
  },
  {
   "cell_type": "code",
   "execution_count": 18,
   "id": "83204ae3",
   "metadata": {},
   "outputs": [],
   "source": [
    "# 4\n",
    "def myfunc(a,b,c):\n",
    "    if c == True:\n",
    "        return a\n",
    "    else:\n",
    "        return b\n"
   ]
  },
  {
   "cell_type": "code",
   "execution_count": 19,
   "id": "79a7cbd9",
   "metadata": {},
   "outputs": [
    {
     "data": {
      "text/plain": [
       "'Goodbye'"
      ]
     },
     "execution_count": 19,
     "metadata": {},
     "output_type": "execute_result"
    }
   ],
   "source": [
    "myfunc('Hello','Goodbye',False)"
   ]
  },
  {
   "cell_type": "code",
   "execution_count": 23,
   "id": "57efb13d",
   "metadata": {},
   "outputs": [],
   "source": [
    "#5\n",
    "def myfunc(a,b):\n",
    "    return a*b"
   ]
  },
  {
   "cell_type": "code",
   "execution_count": 22,
   "id": "9a3b43d1",
   "metadata": {},
   "outputs": [
    {
     "data": {
      "text/plain": [
       "200"
      ]
     },
     "execution_count": 22,
     "metadata": {},
     "output_type": "execute_result"
    }
   ],
   "source": [
    "myfunc(10,20)"
   ]
  },
  {
   "cell_type": "code",
   "execution_count": 7,
   "id": "2fd2d8fa",
   "metadata": {},
   "outputs": [],
   "source": [
    "# 6\n",
    "def is_evenly_divisible_by_3(n):\n",
    "    if n%3 == 0:\n",
    "        return True\n",
    "    else:\n",
    "        return False\n",
    "    "
   ]
  },
  {
   "cell_type": "code",
   "execution_count": 10,
   "id": "ca94b45a",
   "metadata": {},
   "outputs": [
    {
     "data": {
      "text/plain": [
       "True"
      ]
     },
     "execution_count": 10,
     "metadata": {},
     "output_type": "execute_result"
    }
   ],
   "source": [
    "is_evenly_divisible_by_3(9)"
   ]
  },
  {
   "cell_type": "code",
   "execution_count": 11,
   "id": "cbd1253b",
   "metadata": {},
   "outputs": [],
   "source": [
    "# 7\n",
    "def is_less(c,d):\n",
    "    if c<d:\n",
    "        return True\n",
    "    else:\n",
    "        return False\n"
   ]
  },
  {
   "cell_type": "code",
   "execution_count": 5,
   "id": "ad748129",
   "metadata": {},
   "outputs": [
    {
     "data": {
      "text/plain": [
       "True"
      ]
     },
     "execution_count": 5,
     "metadata": {},
     "output_type": "execute_result"
    }
   ],
   "source": [
    "is_less(6,8)"
   ]
  },
  {
   "cell_type": "code",
   "execution_count": null,
   "id": "45a18cdd",
   "metadata": {},
   "outputs": [],
   "source": []
  }
 ],
 "metadata": {
  "kernelspec": {
   "display_name": "Python 3 (ipykernel)",
   "language": "python",
   "name": "python3"
  },
  "language_info": {
   "codemirror_mode": {
    "name": "ipython",
    "version": 3
   },
   "file_extension": ".py",
   "mimetype": "text/x-python",
   "name": "python",
   "nbconvert_exporter": "python",
   "pygments_lexer": "ipython3",
   "version": "3.10.9"
  }
 },
 "nbformat": 4,
 "nbformat_minor": 5
}
