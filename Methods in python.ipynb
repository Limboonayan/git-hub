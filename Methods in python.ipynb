{
 "cells": [
  {
   "cell_type": "code",
   "execution_count": 1,
   "id": "57bb4c3d",
   "metadata": {},
   "outputs": [],
   "source": [
    "#methodsin python"
   ]
  },
  {
   "cell_type": "code",
   "execution_count": null,
   "id": "009b23ba",
   "metadata": {},
   "outputs": [],
   "source": [
    "mylist = [1,2,3]\n"
   ]
  }
 ],
 "metadata": {
  "kernelspec": {
   "display_name": "Python 3 (ipykernel)",
   "language": "python",
   "name": "python3"
  },
  "language_info": {
   "codemirror_mode": {
    "name": "ipython",
    "version": 3
   },
   "file_extension": ".py",
   "mimetype": "text/x-python",
   "name": "python",
   "nbconvert_exporter": "python",
   "pygments_lexer": "ipython3",
   "version": "3.10.9"
  }
 },
 "nbformat": 4,
 "nbformat_minor": 5
}
