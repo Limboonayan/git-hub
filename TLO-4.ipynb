{
 "cells": [
  {
   "cell_type": "code",
   "execution_count": 17,
   "id": "e26fd94f",
   "metadata": {},
   "outputs": [],
   "source": [
    "#TLO4: Utilize booleans, comparison operators, and I/O operations in Python (CLO2)\n"
   ]
  },
  {
   "cell_type": "code",
   "execution_count": 16,
   "id": "d9463c5e",
   "metadata": {},
   "outputs": [
    {
     "name": "stdout",
     "output_type": "stream",
     "text": [
      "My name is Nayan Limboo\n",
      "\n"
     ]
    }
   ],
   "source": [
    "#Exercise 1:\n",
    "with open(\"example.txt\", \"r\") as file:\n",
    "    content = file.read()\n",
    "    print(content)"
   ]
  },
  {
   "cell_type": "code",
   "execution_count": 15,
   "id": "160d7863",
   "metadata": {},
   "outputs": [
    {
     "name": "stdout",
     "output_type": "stream",
     "text": [
      "My name is Nayan Limboo\n",
      "\n"
     ]
    }
   ],
   "source": [
    "#Exercise 2:\n",
    "with open(\"example.txt\", \"r\") as file:\n",
    "    first_line = file.readline()\n",
    "    print(first_line)\n"
   ]
  },
  {
   "cell_type": "code",
   "execution_count": 22,
   "id": "351f14b9",
   "metadata": {},
   "outputs": [],
   "source": [
    "#Erercise 3:\n",
    "with open(\"empty.txt\", \"w\") as file:\n",
    "    file.write(\"This is an empty file.\")\n"
   ]
  },
  {
   "cell_type": "code",
   "execution_count": 23,
   "id": "eddfa777",
   "metadata": {},
   "outputs": [],
   "source": [
    "#Exercise 4:\n",
    "with open(\"append_example.txt\", \"a\") as file:\n",
    "    file.write(\"\\nAppended line.\")\n"
   ]
  },
  {
   "cell_type": "code",
   "execution_count": 24,
   "id": "8b31e198",
   "metadata": {},
   "outputs": [
    {
     "name": "stdout",
     "output_type": "stream",
     "text": [
      "24\n"
     ]
    }
   ],
   "source": [
    "#Exercise 5:\n",
    "with open(\"example.txt\", \"r\") as file:\n",
    "    content = file.read()\n",
    "    print(len(content))\n"
   ]
  },
  {
   "cell_type": "code",
   "execution_count": 25,
   "id": "26fc8d3c",
   "metadata": {},
   "outputs": [
    {
     "name": "stdout",
     "output_type": "stream",
     "text": [
      "5\n"
     ]
    }
   ],
   "source": [
    "#Exercise 6:\n",
    "with open(\"example.txt\", \"r\") as file:\n",
    "    content = file.read()\n",
    "    words = content.split()\n",
    "    print(len(words))\n"
   ]
  },
  {
   "cell_type": "code",
   "execution_count": 26,
   "id": "4a8ec241",
   "metadata": {},
   "outputs": [
    {
     "name": "stdout",
     "output_type": "stream",
     "text": [
      "True\n"
     ]
    }
   ],
   "source": [
    "#Exercise 7:\n",
    "num = 14\n",
    "result = 10 <= num <= 20 and num % 2 == 0\n",
    "print(result)\n"
   ]
  },
  {
   "cell_type": "code",
   "execution_count": 27,
   "id": "64cdc084",
   "metadata": {},
   "outputs": [
    {
     "name": "stdout",
     "output_type": "stream",
     "text": [
      "True\n"
     ]
    }
   ],
   "source": [
    "#Exercise 8:\n",
    "text = \"banana\"\n",
    "result = 5 <= len(text) <= 10 and 'a' in text\n",
    "print(result)\n"
   ]
  },
  {
   "cell_type": "code",
   "execution_count": 28,
   "id": "dba6379a",
   "metadata": {},
   "outputs": [
    {
     "name": "stdout",
     "output_type": "stream",
     "text": [
      "True\n"
     ]
    }
   ],
   "source": [
    "#Exercise 9:\n",
    "temperature = 20\n",
    "humidity = 40\n",
    "result = 15 <= temperature <= 25 or humidity < 30\n",
    "print(result)\n"
   ]
  },
  {
   "cell_type": "code",
   "execution_count": 29,
   "id": "20025cc9",
   "metadata": {},
   "outputs": [
    {
     "name": "stdout",
     "output_type": "stream",
     "text": [
      "True\n"
     ]
    }
   ],
   "source": [
    "#Exercise 10:\n",
    "x = 5\n",
    "y = 7\n",
    "z = 10\n",
    "result = x != y and z > x and z > y\n",
    "print(result)\n"
   ]
  },
  {
   "cell_type": "code",
   "execution_count": 30,
   "id": "01ecee3f",
   "metadata": {},
   "outputs": [
    {
     "name": "stdout",
     "output_type": "stream",
     "text": [
      "True\n"
     ]
    }
   ],
   "source": [
    "#Exercise 11:\n",
    "a = 3\n",
    "b = 3\n",
    "c = 6\n",
    "d = 7\n",
    "result = a == b or c == d\n",
    "print(result)\n"
   ]
  },
  {
   "cell_type": "code",
   "execution_count": 31,
   "id": "ade4090a",
   "metadata": {},
   "outputs": [
    {
     "name": "stdout",
     "output_type": "stream",
     "text": [
      "True\n"
     ]
    }
   ],
   "source": [
    "#Exercise 12:\n",
    "num1 = 9\n",
    "num2 = 8\n",
    "result = num1 % 2 != 0 and num2 % 2 == 0\n",
    "print(result)\n"
   ]
  },
  {
   "cell_type": "code",
   "execution_count": 32,
   "id": "e567d04e",
   "metadata": {},
   "outputs": [
    {
     "name": "stdout",
     "output_type": "stream",
     "text": [
      "True\n"
     ]
    }
   ],
   "source": [
    "#Exercise 13:\n",
    "age = 15\n",
    "grade = 8\n",
    "result = 13 <= age <= 19 or 7 <= grade <= 12\n",
    "print(result)\n"
   ]
  },
  {
   "cell_type": "code",
   "execution_count": 33,
   "id": "bbfe0ffd",
   "metadata": {},
   "outputs": [
    {
     "name": "stdout",
     "output_type": "stream",
     "text": [
      "True\n"
     ]
    }
   ],
   "source": [
    "#Exercise 14:\n",
    "score = 25\n",
    "result = not (30 <= score <= 60)\n",
    "print(result)\n"
   ]
  },
  {
   "cell_type": "code",
   "execution_count": null,
   "id": "d74fe84e",
   "metadata": {},
   "outputs": [],
   "source": []
  }
 ],
 "metadata": {
  "kernelspec": {
   "display_name": "Python 3 (ipykernel)",
   "language": "python",
   "name": "python3"
  },
  "language_info": {
   "codemirror_mode": {
    "name": "ipython",
    "version": 3
   },
   "file_extension": ".py",
   "mimetype": "text/x-python",
   "name": "python",
   "nbconvert_exporter": "python",
   "pygments_lexer": "ipython3",
   "version": "3.10.9"
  }
 },
 "nbformat": 4,
 "nbformat_minor": 5
}
