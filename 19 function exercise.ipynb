{
 "cells": [
  {
   "cell_type": "code",
   "execution_count": 8,
   "id": "08fbcd4f",
   "metadata": {},
   "outputs": [],
   "source": [
    "#Function 1`\n",
    "def myfunc(*args):\n",
    "    return len(args)\n"
   ]
  },
  {
   "cell_type": "code",
   "execution_count": 9,
   "id": "112bf60a",
   "metadata": {},
   "outputs": [
    {
     "data": {
      "text/plain": [
       "4"
      ]
     },
     "execution_count": 9,
     "metadata": {},
     "output_type": "execute_result"
    }
   ],
   "source": [
    "myfunc(5,6,7,8)"
   ]
  },
  {
   "cell_type": "code",
   "execution_count": 35,
   "id": "8585dd10",
   "metadata": {},
   "outputs": [],
   "source": [
    "#Function 2 \n",
    "def myfunc(*args):\n",
    " \n",
    "  mylist = []\n",
    "  \n",
    "  for number in args:\n",
    "    \n",
    "    if number % 2 == 0:\n",
    "       \n",
    "       mylist.append(number)\n",
    "    \n",
    "    else:\n",
    "       \n",
    "       pass\n",
    "  \n",
    "  return mylist"
   ]
  },
  {
   "cell_type": "code",
   "execution_count": 36,
   "id": "b2424afa",
   "metadata": {},
   "outputs": [
    {
     "ename": "TypeError",
     "evalue": "not all arguments converted during string formatting",
     "output_type": "error",
     "traceback": [
      "\u001b[1;31m---------------------------------------------------------------------------\u001b[0m",
      "\u001b[1;31mTypeError\u001b[0m                                 Traceback (most recent call last)",
      "Cell \u001b[1;32mIn[36], line 1\u001b[0m\n\u001b[1;32m----> 1\u001b[0m \u001b[43mmyfunc\u001b[49m\u001b[43m(\u001b[49m\u001b[38;5;124;43m'\u001b[39;49m\u001b[38;5;124;43mAnthropomorphism\u001b[39;49m\u001b[38;5;124;43m'\u001b[39;49m\u001b[43m)\u001b[49m\n",
      "Cell \u001b[1;32mIn[35], line 8\u001b[0m, in \u001b[0;36mmyfunc\u001b[1;34m(*args)\u001b[0m\n\u001b[0;32m      4\u001b[0m mylist \u001b[38;5;241m=\u001b[39m []\n\u001b[0;32m      6\u001b[0m \u001b[38;5;28;01mfor\u001b[39;00m number \u001b[38;5;129;01min\u001b[39;00m args:\n\u001b[1;32m----> 8\u001b[0m   \u001b[38;5;28;01mif\u001b[39;00m \u001b[43mnumber\u001b[49m\u001b[43m \u001b[49m\u001b[38;5;241;43m%\u001b[39;49m\u001b[43m \u001b[49m\u001b[38;5;241;43m2\u001b[39;49m \u001b[38;5;241m==\u001b[39m \u001b[38;5;241m0\u001b[39m:\n\u001b[0;32m     10\u001b[0m      mylist\u001b[38;5;241m.\u001b[39mappend(number)\n\u001b[0;32m     12\u001b[0m   \u001b[38;5;28;01melse\u001b[39;00m:\n",
      "\u001b[1;31mTypeError\u001b[0m: not all arguments converted during string formatting"
     ]
    }
   ],
   "source": [
    "myfunc('Anthropomorphism')"
   ]
  },
  {
   "cell_type": "code",
   "execution_count": 30,
   "id": "99eb5b7f",
   "metadata": {},
   "outputs": [],
   "source": [
    "def myfunc(inputstring):\n",
    "  \n",
    "  outputstring=''\n",
    "  \n",
    "  for item in range(len(inputstring)):\n",
    "        \n",
    "    if item%2==0:\n",
    "            \n",
    "        outputstring += inputstring[item].lower()\n",
    "    else:\n",
    "        outputstring += inputstring[item].upper()\n",
    "    return outputstring\n"
   ]
  },
  {
   "cell_type": "code",
   "execution_count": 32,
   "id": "c74ae1c6",
   "metadata": {},
   "outputs": [
    {
     "data": {
      "text/plain": [
       "'n'"
      ]
     },
     "execution_count": 32,
     "metadata": {},
     "output_type": "execute_result"
    }
   ],
   "source": [
    "myfunc('Name')\n"
   ]
  },
  {
   "cell_type": "code",
   "execution_count": null,
   "id": "6d392a5e",
   "metadata": {},
   "outputs": [],
   "source": []
  }
 ],
 "metadata": {
  "kernelspec": {
   "display_name": "Python 3 (ipykernel)",
   "language": "python",
   "name": "python3"
  },
  "language_info": {
   "codemirror_mode": {
    "name": "ipython",
    "version": 3
   },
   "file_extension": ".py",
   "mimetype": "text/x-python",
   "name": "python",
   "nbconvert_exporter": "python",
   "pygments_lexer": "ipython3",
   "version": "3.10.9"
  }
 },
 "nbformat": 4,
 "nbformat_minor": 5
}
