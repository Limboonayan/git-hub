{
 "cells": [
  {
   "cell_type": "code",
   "execution_count": 1,
   "id": "6a806f74",
   "metadata": {},
   "outputs": [
    {
     "name": "stdout",
     "output_type": "stream",
     "text": [
      "Enter the temperature: 40\n",
      "It's hot outside!\n"
     ]
    }
   ],
   "source": [
    "#Exercise 1: Basic if statement with input\n",
    "temperature = int(input(\"Enter the temperature: \"))\n",
    "if temperature > 30:\n",
    "    print(\"It's hot outside!\")\n"
   ]
  },
  {
   "cell_type": "code",
   "execution_count": 2,
   "id": "461f56ce",
   "metadata": {},
   "outputs": [
    {
     "name": "stdout",
     "output_type": "stream",
     "text": [
      "It's hot outside!\n"
     ]
    }
   ],
   "source": [
    "#Exercise 2: if-else statement with input\n",
    "\n",
    "if temperature > 30:\n",
    "    print(\"It's hot outside!\")\n",
    "else:\n",
    "    print(\"It's not hot outside!\")\n"
   ]
  },
  {
   "cell_type": "code",
   "execution_count": 3,
   "id": "9d7076af",
   "metadata": {},
   "outputs": [
    {
     "name": "stdout",
     "output_type": "stream",
     "text": [
      "It's hot outside!\n"
     ]
    }
   ],
   "source": [
    "#Exercise 3: if-elif-else statement with input\n",
    "if temperature > 30:\n",
    "    print(\"It's hot outside!\")\n",
    "elif 20 <= temperature <= 30:\n",
    "    print(\"It's a pleasant day.\")\n",
    "else:\n",
    "    print(\"It's cold outside!\")\n"
   ]
  },
  {
   "cell_type": "code",
   "execution_count": 4,
   "id": "d533677b",
   "metadata": {},
   "outputs": [
    {
     "name": "stdout",
     "output_type": "stream",
     "text": [
      "Enter an animal type: Bird\n",
      "Chirp!\n"
     ]
    }
   ],
   "source": [
    "#Exercise 4: Multiple branches with if-elif-else and input\n",
    "\n",
    "animal = input(\"Enter an animal type: \")\n",
    "\n",
    "if animal == \"Dog\":\n",
    "    print(\"Woof!\")\n",
    "elif animal == \"Cat\":\n",
    "    print(\"Meow!\")\n",
    "elif animal == \"Bird\":\n",
    "    print(\"Chirp!\")\n",
    "else:\n",
    "    print(\"I don't know this animal.\")\n"
   ]
  },
  {
   "cell_type": "code",
   "execution_count": 25,
   "id": "972dafba",
   "metadata": {},
   "outputs": [],
   "source": [
    "#For loops\n"
   ]
  },
  {
   "cell_type": "code",
   "execution_count": 5,
   "id": "7c4b5047",
   "metadata": {},
   "outputs": [
    {
     "name": "stdout",
     "output_type": "stream",
     "text": [
      "Enter the number of elements in the list: 5\n",
      "Enter element 1: 5\n",
      "Enter element 2: 7\n",
      "Enter element 3: 8\n",
      "Enter element 4: 9\n",
      "Enter element 5: 4\n",
      "5\n",
      "7\n",
      "8\n",
      "9\n",
      "4\n"
     ]
    }
   ],
   "source": [
    "#Exercise 1: Iterating through a list with input\n",
    "num_elements = int(input(\"Enter the number of elements in the list: \"))\n",
    "elements = []\n",
    "for i in range(num_elements):\n",
    "    element = int(input(f\"Enter element {i + 1}: \"))\n",
    "    elements.append(element)\n",
    "for num in elements:\n",
    "    print(num)\n"
   ]
  },
  {
   "cell_type": "code",
   "execution_count": 7,
   "id": "5405e419",
   "metadata": {},
   "outputs": [
    {
     "name": "stdout",
     "output_type": "stream",
     "text": [
      "Enter a string: Hello\n",
      "H\n",
      "e\n",
      "l\n",
      "l\n",
      "o\n"
     ]
    }
   ],
   "source": [
    "#Exercise 2: Iterating through a string with input\n",
    "\n",
    "input_string = input(\"Enter a string: \")\n",
    "for char in input_string:\n",
    "    print(char)\n"
   ]
  },
  {
   "cell_type": "code",
   "execution_count": 3,
   "id": "822b1f67",
   "metadata": {},
   "outputs": [
    {
     "name": "stdout",
     "output_type": "stream",
     "text": [
      "Enter the number of pairs: 2\n",
      "Enter the first element of pair 1: 1\n",
      "Enter the second element of pair 1: 2\n",
      "Enter the first element of pair 2: 3\n",
      "Enter the second element of pair 2: 4\n",
      "First element: 1, Second element: 2\n",
      "First element: 3, Second element: 4\n"
     ]
    }
   ],
   "source": [
    "#Exercise 3: Tuple unpacking with input\n",
    "\n",
    "num_pairs = int(input(\"Enter the number of pairs: \"))\n",
    "pairs = []\n",
    "for i in range(num_pairs):\n",
    "    first = int(input(f\"Enter the first element of pair {i + 1}: \"))\n",
    "    second = int(input(f\"Enter the second element of pair {i + 1}: \"))\n",
    "    pairs.append((first, second))\n",
    "for a, b in pairs:\n",
    "    print(f\"First element: {a}, Second element: {b}\")\n"
   ]
  },
  {
   "cell_type": "code",
   "execution_count": 26,
   "id": "7697ccfd",
   "metadata": {},
   "outputs": [
    {
     "name": "stdout",
     "output_type": "stream",
     "text": [
      "Enter the number of entries in the dictionary: 2\n",
      "Enter the key for entry 1: x\n",
      "Enter the value for entry 1: 5\n",
      "Enter the key for entry 2: y\n",
      "Enter the value for entry 2: 6\n",
      "Key: x, Value: 5\n",
      "Key: y, Value: 6\n"
     ]
    }
   ],
   "source": [
    "#Exercise 4: Iterating through a dictionary with input\n",
    "num_entries = int(input(\"Enter the number of entries in the dictionary: \"))\n",
    "input_dict = {}\n",
    "for i in range(num_entries):\n",
    "    key = input(f\"Enter the key for entry {i + 1}: \")\n",
    "    value = input(f\"Enter the value for entry {i + 1}: \")\n",
    "    input_dict[key] = value\n",
    "for key, value in input_dict.items():\n",
    "    print(f\"Key: {key}, Value: {value}\")\n"
   ]
  },
  {
   "cell_type": "code",
   "execution_count": 2,
   "id": "4073dba5",
   "metadata": {},
   "outputs": [
    {
     "name": "stdout",
     "output_type": "stream",
     "text": [
      "Enter the number of entries in the dictionary: 2\n",
      "Enter the key for entry 1: x\n",
      "Enter the value for entry 1: 1\n",
      "Enter the key for entry 2: y\n",
      "Enter the value for entry 2: 2\n",
      "Key: x, Value: 1\n",
      "Key: y, Value: 2\n"
     ]
    }
   ],
   "source": [
    "#Exercise 4:Iterating through a dictionary with input\n",
    "num_entries = int(input(\"Enter the number of entries in the dictionary: \"))\n",
    "input_dict = {}\n",
    "for i in range(num_entries):\n",
    "    key = input(f\"Enter the key for entry {i + 1}: \")\n",
    "    value = input(f\"Enter the value for entry {i + 1}: \")\n",
    "    input_dict[key] = value\n",
    "for key, value in input_dict.items():\n",
    "    print(f\"Key: {key}, Value: {value}\")\n"
   ]
  },
  {
   "cell_type": "code",
   "execution_count": 3,
   "id": "1a67fd58",
   "metadata": {},
   "outputs": [
    {
     "name": "stdout",
     "output_type": "stream",
     "text": [
      "1 3 5 \n",
      "4 6 7 \n",
      "2 8 9 \n"
     ]
    }
   ],
   "source": [
    "#Exercise 5: Iterating Through Nested Lists Using Nested For Loops\n",
    "\n",
    "nested_list = [\n",
    "    [1, 3, 5],\n",
    "    [4, 6, 7],\n",
    "    [2, 8, 9]\n",
    "]\n",
    "for i in range(len(nested_list)):\n",
    "    for j in range(len(nested_list[i])):\n",
    "        print(nested_list[i][j], end=' ')\n",
    "    print()\n"
   ]
  },
  {
   "cell_type": "code",
   "execution_count": 5,
   "id": "961f5f37",
   "metadata": {},
   "outputs": [],
   "source": [
    "#while loop"
   ]
  },
  {
   "cell_type": "code",
   "execution_count": 4,
   "id": "bdc991e6",
   "metadata": {},
   "outputs": [
    {
     "name": "stdout",
     "output_type": "stream",
     "text": [
      "0\n",
      "2\n",
      "4\n",
      "6\n",
      "8\n",
      "10\n",
      "12\n",
      "14\n",
      "16\n",
      "18\n"
     ]
    }
   ],
   "source": [
    "#Exercise 1:Print the first 10 even numbers using a while loop\n",
    "\n",
    "counter = 0\n",
    "number = 0\n",
    "while counter < 10:\n",
    "    if number % 2 == 0:\n",
    "        print(number)\n",
    "        counter += 1\n",
    "    number += 1\n",
    "\n"
   ]
  },
  {
   "cell_type": "code",
   "execution_count": 6,
   "id": "3e40d102",
   "metadata": {},
   "outputs": [
    {
     "name": "stdout",
     "output_type": "stream",
     "text": [
      "0\n",
      "1\n",
      "1\n",
      "2\n",
      "3\n",
      "5\n",
      "8\n",
      "13\n",
      "21\n",
      "34\n"
     ]
    }
   ],
   "source": [
    "#Exercise 2\n",
    "a, b = 0, 1\n",
    "counter = 0\n",
    "\n",
    "while counter < 10:\n",
    "    print(a)\n",
    "    a, b = b, a + b\n",
    "    counter += 1\n"
   ]
  },
  {
   "cell_type": "code",
   "execution_count": 7,
   "id": "d73b24ef",
   "metadata": {},
   "outputs": [
    {
     "name": "stdout",
     "output_type": "stream",
     "text": [
      "The factorial of 5 is 120.\n"
     ]
    }
   ],
   "source": [
    "#Exercise 3\n",
    "n = 5  # Change this value to calculate the factorial of a different number\n",
    "factorial = 1\n",
    "i = 1\n",
    "while i <= n:\n",
    "    factorial *= i\n",
    "    i += 1\n",
    "print(f\"The factorial of {n} is {factorial}.\")\n"
   ]
  },
  {
   "cell_type": "code",
   "execution_count": 8,
   "id": "19be299d",
   "metadata": {},
   "outputs": [],
   "source": [
    "#pass, continue, break"
   ]
  },
  {
   "cell_type": "code",
   "execution_count": 9,
   "id": "02cb4f8e",
   "metadata": {},
   "outputs": [
    {
     "name": "stdout",
     "output_type": "stream",
     "text": [
      "apple\n",
      "banana\n",
      "cherry\n"
     ]
    }
   ],
   "source": [
    "#Exercise 1 pass\n",
    "fruits = ['apple', 'banana', 'cherry']\n",
    "for fruit in fruits:\n",
    "    if fruit == 'banana':\n",
    "        pass\n",
    "    print(fruit)\n"
   ]
  },
  {
   "cell_type": "code",
   "execution_count": 10,
   "id": "82aa5699",
   "metadata": {},
   "outputs": [
    {
     "name": "stdout",
     "output_type": "stream",
     "text": [
      "apple\n",
      "cherry\n"
     ]
    }
   ],
   "source": [
    "#Exercise 2 continue\n",
    "fruits = ['apple', 'banana', 'cherry']\n",
    "for fruit in fruits:\n",
    "    if fruit == 'banana':\n",
    "        continue\n",
    "    print(fruit)\n"
   ]
  },
  {
   "cell_type": "code",
   "execution_count": 11,
   "id": "891f07bc",
   "metadata": {},
   "outputs": [
    {
     "name": "stdout",
     "output_type": "stream",
     "text": [
      "apple\n"
     ]
    }
   ],
   "source": [
    "#Exercise 3 Break\n",
    "fruits = ['apple', 'banana', 'cherry']\n",
    "for fruit in fruits:\n",
    "    if fruit == 'banana':\n",
    "        break\n",
    "    print(fruit)\n"
   ]
  },
  {
   "cell_type": "code",
   "execution_count": 12,
   "id": "25f88eac",
   "metadata": {},
   "outputs": [],
   "source": [
    "#Useful operators in python\n"
   ]
  },
  {
   "cell_type": "code",
   "execution_count": 13,
   "id": "05e0407b",
   "metadata": {},
   "outputs": [
    {
     "name": "stdout",
     "output_type": "stream",
     "text": [
      "[5, 10, 15, 20, 25, 30, 35, 40, 45, 50]\n"
     ]
    }
   ],
   "source": [
    "#Exercise 1: Range function\n",
    "numbers = list(range(5, 51, 5))\n",
    "print(numbers)\n"
   ]
  },
  {
   "cell_type": "code",
   "execution_count": 14,
   "id": "168f9f58",
   "metadata": {},
   "outputs": [
    {
     "name": "stdout",
     "output_type": "stream",
     "text": [
      "Index 0, squared value: 1\n",
      "Index 1, squared value: 4\n",
      "Index 2, squared value: 9\n",
      "Index 3, squared value: 16\n",
      "Index 4, squared value: 25\n"
     ]
    }
   ],
   "source": [
    "#Exercise 2: Enumerate function\n",
    "numbers = [1, 2, 3, 4, 5]\n",
    "for index, number in enumerate(numbers):\n",
    "    print(f\"Index {index}, squared value: {number ** 2}\")\n"
   ]
  },
  {
   "cell_type": "code",
   "execution_count": 15,
   "id": "279bb448",
   "metadata": {},
   "outputs": [
    {
     "name": "stdout",
     "output_type": "stream",
     "text": [
      "Sum of 1 and 6: 7\n",
      "Sum of 2 and 7: 9\n",
      "Sum of 3 and 8: 11\n",
      "Sum of 4 and 9: 13\n",
      "Sum of 5 and 10: 15\n"
     ]
    }
   ],
   "source": [
    "#Exercise 3: Zip function\n",
    "list1 = [1, 2, 3, 4, 5]\n",
    "list2 = [6, 7, 8, 9, 10]\n",
    "for num1, num2 in zip(list1, list2):\n",
    "    print(f\"Sum of {num1} and {num2}: {num1 + num2}\")\n"
   ]
  },
  {
   "cell_type": "code",
   "execution_count": 16,
   "id": "e3473025",
   "metadata": {},
   "outputs": [
    {
     "name": "stdout",
     "output_type": "stream",
     "text": [
      "5 is in the list\n"
     ]
    }
   ],
   "source": [
    "#Exercise 4: In operator\n",
    "numbers = [1, 3, 5, 7, 9]\n",
    "given_number = 5\n",
    "if given_number in numbers:\n",
    "    print(f\"{given_number} is in the list\")\n",
    "else:\n",
    "    print(f\"{given_number} is not in the list\")\n"
   ]
  },
  {
   "cell_type": "code",
   "execution_count": 17,
   "id": "a571b541",
   "metadata": {},
   "outputs": [
    {
     "name": "stdout",
     "output_type": "stream",
     "text": [
      "Shuffled list: [7, 9, 5, 3, 8, 10, 2, 1, 4, 6]\n",
      "Random integer between 1 and 100: 44\n"
     ]
    }
   ],
   "source": [
    "#Exercise 5: Random shuffle and randint\n",
    "\n",
    "from random import shuffle, randint\n",
    "numbers = [1, 2, 3, 4, 5, 6, 7, 8, 9, 10]\n",
    "shuffle(numbers)\n",
    "print(\"Shuffled list:\", numbers)\n",
    "random_number = randint(1, 100)\n",
    "print(\"Random integer between 1 and 100:\", random_number)\n"
   ]
  },
  {
   "cell_type": "code",
   "execution_count": 18,
   "id": "1ef64ddf",
   "metadata": {},
   "outputs": [
    {
     "name": "stdout",
     "output_type": "stream",
     "text": [
      "Enter your name: Nayan\n",
      "Enter your age: 18\n",
      "Your name is Nayan and your age is 18.\n"
     ]
    }
   ],
   "source": [
    "#Exercise 6: User input\n",
    "name = input(\"Enter your name: \")\n",
    "age = int(input(\"Enter your age: \"))\n",
    "print(f\"Your name is {name} and your age is {age}.\")\n"
   ]
  },
  {
   "cell_type": "code",
   "execution_count": 19,
   "id": "92439e92",
   "metadata": {},
   "outputs": [],
   "source": [
    "#List Comprehensions in Python\n"
   ]
  },
  {
   "cell_type": "code",
   "execution_count": 20,
   "id": "bfa61c1d",
   "metadata": {},
   "outputs": [
    {
     "name": "stdout",
     "output_type": "stream",
     "text": [
      "['P', 'y', 't', 'h', 'o', 'n']\n"
     ]
    }
   ],
   "source": [
    "#Exercise 1\n",
    "input_string = \"Python\"\n",
    "output_list = [char for char in input_string]\n",
    "print(output_list)\n"
   ]
  },
  {
   "cell_type": "code",
   "execution_count": 21,
   "id": "57b90f06",
   "metadata": {},
   "outputs": [
    {
     "name": "stdout",
     "output_type": "stream",
     "text": [
      "[1, 4, 9, 16, 25, 36, 49, 64, 81, 100]\n"
     ]
    }
   ],
   "source": [
    "#Exercise 2\n",
    "squares = [num**2 for num in range(1, 11)]\n",
    "print(squares)\n"
   ]
  },
  {
   "cell_type": "code",
   "execution_count": 22,
   "id": "85e7b2b2",
   "metadata": {},
   "outputs": [
    {
     "name": "stdout",
     "output_type": "stream",
     "text": [
      "[2, 4, 6, 8, 10]\n"
     ]
    }
   ],
   "source": [
    "#Exercise 3\n",
    "input_list = [1, 2, 3, 4, 5, 6, 7, 8, 9, 10]\n",
    "even_numbers = [num for num in input_list if num % 2 == 0]\n",
    "print(even_numbers)\n"
   ]
  },
  {
   "cell_type": "code",
   "execution_count": 23,
   "id": "783cbee3",
   "metadata": {},
   "outputs": [
    {
     "name": "stdout",
     "output_type": "stream",
     "text": [
      "[32.0, 50.0, 68.0, 86.0, 122.0, 94.1]\n"
     ]
    }
   ],
   "source": [
    "#Exercise 4\n",
    "celsius = [0, 10, 20, 30, 50, 34.5]\n",
    "fahrenheit = [(9/5 * temp + 32) for temp in celsius]\n",
    "print(fahrenheit)\n"
   ]
  },
  {
   "cell_type": "code",
   "execution_count": 24,
   "id": "ccbc4854",
   "metadata": {},
   "outputs": [
    {
     "name": "stdout",
     "output_type": "stream",
     "text": [
      "[2, 20, 200, 4, 40, 400, 6, 60, 600]\n"
     ]
    }
   ],
   "source": [
    "#Exercise 5\n",
    "list1 = [2, 4, 6]\n",
    "list2 = [1, 10, 100]\n",
    "product_list = [x * y for x in list1 for y in list2]\n",
    "print(product_list)\n"
   ]
  },
  {
   "cell_type": "code",
   "execution_count": null,
   "id": "f1f499aa",
   "metadata": {},
   "outputs": [],
   "source": []
  }
 ],
 "metadata": {
  "kernelspec": {
   "display_name": "Python 3 (ipykernel)",
   "language": "python",
   "name": "python3"
  },
  "language_info": {
   "codemirror_mode": {
    "name": "ipython",
    "version": 3
   },
   "file_extension": ".py",
   "mimetype": "text/x-python",
   "name": "python",
   "nbconvert_exporter": "python",
   "pygments_lexer": "ipython3",
   "version": "3.10.9"
  }
 },
 "nbformat": 4,
 "nbformat_minor": 5
}
